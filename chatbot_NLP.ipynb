{
 "cells": [
  {
   "cell_type": "code",
   "execution_count": null,
   "metadata": {},
   "outputs": [],
   "source": [
    "import nltk"
   ]
  },
  {
   "cell_type": "code",
   "execution_count": null,
   "metadata": {},
   "outputs": [],
   "source": [
    "import io  #to read the files \n",
    "raw=open(r\"C:\\Users\\DELL\\Desktop\\Global_Warmining.txt\",\"r\",errors=\"ignore\")\n",
    "read_raw=raw.read() #reading a file\n",
    "raw_lower=read_raw.lower() #converting all the letters into lower_case"
   ]
  },
  {
   "cell_type": "code",
   "execution_count": null,
   "metadata": {
    "scrolled": false
   },
   "outputs": [],
   "source": [
    "\n",
    "from nltk.tokenize import sent_tokenize,word_tokenize\n",
    "sent_tokens=sent_tokenize(raw_lower)\n",
    "word_tokens=word_tokenize(raw_lower)\n",
    "#word_tokens"
   ]
  },
  {
   "cell_type": "markdown",
   "metadata": {},
   "source": [
    "# PreProcessing"
   ]
  },
  {
   "cell_type": "code",
   "execution_count": null,
   "metadata": {},
   "outputs": [],
   "source": [
    "#preprocessing the data\n",
    "import string\n",
    "from nltk.stem import WordNetLemmatizer\n",
    "lemma=WordNetLemmatizer()\n",
    "\n",
    "def LemTokens(tokens):\n",
    "    return [lemma.lemmatize(token) for token in tokens]\n",
    "remove_punct_dict=dict((ord(punct),None) for punct in string.punctuation)\n",
    "def LemNormalize(text):\n",
    "    return LemTokens(nltk.word_tokenize(text.lower().translate(remove_punct_dict)))\n",
    "#text=\"i am very glad today. because, i am going to be select\"\n",
    "#print(LemNormalize(text))"
   ]
  },
  {
   "cell_type": "code",
   "execution_count": null,
   "metadata": {},
   "outputs": [],
   "source": [
    "raw_lower.translate(remove_punct_dict)"
   ]
  },
  {
   "cell_type": "markdown",
   "metadata": {},
   "source": [
    "# Greetings"
   ]
  },
  {
   "cell_type": "code",
   "execution_count": null,
   "metadata": {},
   "outputs": [],
   "source": [
    "import random\n",
    "greetings_input=[\"hello\",\"hi\",\"greetings\",\"sup\",\"what's up\",\"hey\"]\n",
    "greetings_responses=[\"hi\",\"hello\",\"greetings\",\"yes\",\"hi\",\"yes\"]\n",
    "def greetings(sentense):\n",
    "    for word in sentense.split():\n",
    "        if word.lower() in greetings_input:\n",
    "            return random.choice(greetings_responses)\n",
    "print(greetings(\"greetings\"))      "
   ]
  },
  {
   "cell_type": "markdown",
   "metadata": {},
   "source": [
    "# Vectorizer"
   ]
  },
  {
   "cell_type": "code",
   "execution_count": null,
   "metadata": {},
   "outputs": [],
   "source": [
    "from sklearn.feature_extraction.text import TfidfVectorizer\n",
    "from sklearn.metrics.pairwise import cosine_similarity"
   ]
  },
  {
   "cell_type": "code",
   "execution_count": null,
   "metadata": {},
   "outputs": [],
   "source": [
    "import warnings\n",
    "warnings.filterwarnings(\"ignore\")\n",
    "sent_toks=[]\n",
    "def response(user_response):\n",
    "    chatbot_response=\" \"\n",
    "    sent_tokens.append(user_response)\n",
    "    tfidfvect=TfidfVectorizer(tokenizer=LemNormalize, stop_words=\"english\")\n",
    "    tfidf=tfidfvect.fit_transform(sent_tokens)\n",
    "    \n",
    "    vals=cosine_similarity(tfidf[-1],tfidf)\n",
    "    idx=vals.argsort()[0][-2]\n",
    "    flat=vals.flatten()\n",
    "    flat.sort()\n",
    "    req_tfidf=flat[-2]\n",
    "    if req_tfidf==0:\n",
    "        chatbot_response=chatbot_response+\"I am sorry! i dont understand you\"\n",
    "        return chatbot_response\n",
    "    else:\n",
    "        chatbot_response=chatbot_response+sent_tokens[idx]\n",
    "        return chatbot_response\n",
    "print(response(\"what is global warms?\"))\n",
    "    "
   ]
  },
  {
   "cell_type": "code",
   "execution_count": null,
   "metadata": {},
   "outputs": [],
   "source": [
    "flag=True\n",
    "print(\"Chatbot: My name is chatbot. i will answer for your queries on global warming. if you want to exit, type bye!\")\n",
    "while flag==True:\n",
    "    user_response=input()\n",
    "    user_responses=user_response.lower()\n",
    "    if user_responses != \"bye\":\n",
    "        if user_responses==\"thanks\" or user_responses==\"thank you\":\n",
    "            flag=False\n",
    "            print(\"Chatbot: Your are Welcome.....\")\n",
    "        else:\n",
    "            if greetings(user_responses)!=None:\n",
    "                print(\"Chatbot: \"+greetings(user_responses))\n",
    "            else:\n",
    "                print(\"Chatbot:\",end=\"\")\n",
    "                print(response(user_responses))\n",
    "                sent_tokens.remove(user_responses)\n",
    "    else:\n",
    "        flag=False\n",
    "        print(\"Chatbot: Bye! take care\")"
   ]
  },
  {
   "cell_type": "code",
   "execution_count": null,
   "metadata": {},
   "outputs": [],
   "source": []
  }
 ],
 "metadata": {
  "kernelspec": {
   "display_name": "Python 3",
   "language": "python",
   "name": "python3"
  },
  "language_info": {
   "codemirror_mode": {
    "name": "ipython",
    "version": 3
   },
   "file_extension": ".py",
   "mimetype": "text/x-python",
   "name": "python",
   "nbconvert_exporter": "python",
   "pygments_lexer": "ipython3",
   "version": "3.7.6"
  }
 },
 "nbformat": 4,
 "nbformat_minor": 4
}
